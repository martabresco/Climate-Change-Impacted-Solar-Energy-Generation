{
 "cells": [
  {
   "cell_type": "code",
   "execution_count": 1,
   "metadata": {},
   "outputs": [],
   "source": [
    "import sys\n",
    "import xarray as xr\n",
    "import numpy as np\n",
    "from datetime import timedelta\n",
    "from glob import glob\n",
    "import cftime\n",
    "import os\n",
    "from future_wind_copy import combine_hemispheres\n",
    "from datetime import datetime,timedelta\n",
    "import re\n",
    "from collections import defaultdict"
   ]
  },
  {
   "cell_type": "code",
   "execution_count": null,
   "metadata": {},
   "outputs": [],
   "source": [
    "folder = \"/groups/FutureWind/SFCRAD/CanESM5/historical/r1i1p2f1\"\n",
    "target_year = 1985\n",
    "# Ensure target_year is a string\n",
    "target_year = str(target_year)\n",
    "# Regex to extract variable name, start year, and end year\n",
    "pattern = re.compile(r\"(rsds|rsdsdiff|tas)_.*_(\\d{4})\\d{6}-(\\d{4})\\d{6}.nc\")\n",
    "\n"
   ]
  },
  {
   "cell_type": "code",
   "execution_count": null,
   "metadata": {},
   "outputs": [],
   "source": [
    "# Dictionary to store file paths, grouped by (start_year, end_year)\n",
    "files_dict = defaultdict(dict)\n",
    "\n",
    "# Loop through files in the folder\n",
    "for file in os.listdir(folder_path):\n",
    "    match = pattern.search(file)\n",
    "    if match:\n",
    "        var_type, start_year, end_year = match.groups()\n",
    "        file_path = os.path.join(folder_path, file)\n",
    "\n",
    "        # Store file paths in a dictionary grouped by year range\n",
    "        files_dict[(start_year, end_year)][var_type] = file_path\n",
    "\n",
    "# Find the correct files that contain the target year\n",
    "for (start_year, end_year), file_group in files_dict.items():\n",
    "    if start_year <= target_year < end_year:  # Check if the target year falls within this range\n",
    "        # Open the datasets if all three files are found\n",
    "        ds_rsds = xr.open_dataset(file_group[\"rsds\"]) if \"rsds\" in file_group else None\n",
    "        ds_rsdsdiff = xr.open_dataset(file_group[\"rsdsdiff\"]) if \"rsdsdiff\" in file_group else None\n",
    "        ds_tas = xr.open_dataset(file_group[\"tas\"]) if \"tas\" in file_group else None\n",
    "\n",
    "        if ds_rsds and ds_rsdsdiff and ds_tas:\n",
    "ds_rsds, ds_rsdsdiff, ds_tas\n",
    "\n",
    "print(f\"Warning: No matching datasets found for year {target_year}.\")\n",
    "return None, None, None"
   ]
  }
 ],
 "metadata": {
  "kernelspec": {
   "display_name": "atlite_cmip6_2025",
   "language": "python",
   "name": "python3"
  },
  "language_info": {
   "codemirror_mode": {
    "name": "ipython",
    "version": 3
   },
   "file_extension": ".py",
   "mimetype": "text/x-python",
   "name": "python",
   "nbconvert_exporter": "python",
   "pygments_lexer": "ipython3",
   "version": "3.13.1"
  }
 },
 "nbformat": 4,
 "nbformat_minor": 2
}
