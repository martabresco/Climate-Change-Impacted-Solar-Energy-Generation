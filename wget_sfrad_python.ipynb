{
 "cells": [
  {
   "cell_type": "code",
   "execution_count": 3,
   "metadata": {},
   "outputs": [],
   "source": [
    "import os\n",
    "import requests"
   ]
  },
  {
   "cell_type": "code",
   "execution_count": 1,
   "metadata": {},
   "outputs": [],
   "source": [
    "# Base URL\n",
    "#https://esgf.ceda.ac.uk/thredds/fileServer/esg_cmip6/CMIP6/CMIP/CSIRO-ARCCSS/\n",
    "# ACCESS-CM2/historical/r1i1p1f1/3hr/rsds/gn/v20210325/rsds_3hr_ACCESS-CM2_historical_r1i1p1f1_gn_195001010130-195912312230.nc\n",
    "root = \"https://esgf.ceda.ac.uk/thredds/fileServer/esg_cmip6/CMIP6/CMIP/CSIRO-ARCCSS/\"\n",
    "MODEL = \"ACCESS-CM2\"\n",
    "EXPR = \"historical\"\n",
    "VAR = \"r1i1p1f1\"\n",
    "VDATE = \"v20210325\"\n",
    "TABLE = \"3hr\"\n",
    "GRID = \"gn\""
   ]
  },
  {
   "cell_type": "code",
   "execution_count": 4,
   "metadata": {},
   "outputs": [
    {
     "name": "stdout",
     "output_type": "stream",
     "text": [
      "Files will be saved in: ./SFCRAD/ACCESS-CM2/historical/r1i1p1f1/http_files\n"
     ]
    }
   ],
   "source": [
    "# Define year range\n",
    "year = 1980\n",
    "last_year = 1989\n",
    "\n",
    "# Directory to store downloaded files\n",
    "save_dir = f\"./SFCRAD/{MODEL}/{EXPR}/{VAR}/http_files\"\n",
    "os.makedirs(save_dir, exist_ok=True)  # Create directory if it doesn't exist\n",
    "print(f\"Files will be saved in: {save_dir}\")  # ✅ Check save path\n"
   ]
  },
  {
   "cell_type": "code",
   "execution_count": 5,
   "metadata": {},
   "outputs": [
    {
     "name": "stdout",
     "output_type": "stream",
     "text": [
      "Starting loop with year=1980, last_year=1989\n",
      "\n",
      "🔄 Processing years: 1980 - 1989\n",
      "🌐 Constructed URL: https://esgf.ceda.ac.uk/thredds/fileServer/esg_cmip6/CMIP6/CMIP/CSIRO-ARCCSS/ACCESS-CM2/historical/r1i1p1f1/3hr/rsds/gn/v20210325/rsds_3hr_ACCESS-CM2_historical_r1i1p1f1_gn_198001010130-198912312230.nc\n",
      "⬇️ Downloading: rsds_3hr_ACCESS-CM2_historical_r1i1p1f1_gn_198001010130-198912312230.nc\n",
      "🔎 HTTP Response Code: 200\n",
      "❌ Error downloading rsds_3hr_ACCESS-CM2_historical_r1i1p1f1_gn_198001010130-198912312230.nc: HTTPSConnectionPool(host='esgf.ceda.ac.uk', port=443): Read timed out.\n",
      "🌐 Constructed URL: https://esgf.ceda.ac.uk/thredds/fileServer/esg_cmip6/CMIP6/CMIP/CSIRO-ARCCSS/ACCESS-CM2/historical/r1i1p1f1/3hr/rsdsdiff/gn/v20210325/rsdsdiff_3hr_ACCESS-CM2_historical_r1i1p1f1_gn_198001010130-198912312230.nc\n",
      "⬇️ Downloading: rsdsdiff_3hr_ACCESS-CM2_historical_r1i1p1f1_gn_198001010130-198912312230.nc\n",
      "🔎 HTTP Response Code: 200\n",
      "❌ Error downloading rsdsdiff_3hr_ACCESS-CM2_historical_r1i1p1f1_gn_198001010130-198912312230.nc: ('Connection broken: IncompleteRead(1271792754 bytes read, 545279263 more expected)', IncompleteRead(1271792754 bytes read, 545279263 more expected))\n",
      "➡️ Moving to next time period...\n",
      "\n"
     ]
    }
   ],
   "source": [
    "# Ensure loop starts\n",
    "print(f\"Starting loop with year={year}, last_year={last_year}\")\n",
    "if year > last_year:\n",
    "    print(\"⚠️ Warning: `year` is already greater than `last_year`. Exiting loop.\")\n",
    "\n",
    "# Variables to download\n",
    "variables = [\"rsds\", \"rsdsdiff\"]\n",
    "\n",
    "# Loop through years (incrementing by 10)\n",
    "while year <= last_year:\n",
    "    yearP10 = year + 9  # ten-year range\n",
    "    print(f\"\\n🔄 Processing years: {year} - {yearP10}\")\n",
    "\n",
    "    for var in variables:\n",
    "        # Generate date range for filenames\n",
    "        DATES = f\"{year}01010130-{yearP10}12312230\"\n",
    "        # Construct file URL\n",
    "        file_name = f\"{var}_{TABLE}_{MODEL}_{EXPR}_{VAR}_{GRID}_{DATES}.nc\"\n",
    "        URL = f\"{root}{MODEL}/{EXPR}/{VAR}/{TABLE}/{var}/{GRID}/{VDATE}/{file_name}\"\n",
    "\n",
    "        print(f\"🌐 Constructed URL: {URL}\")\n",
    "\n",
    "        # Path to save the file\n",
    "        file_path = os.path.join(save_dir, file_name)\n",
    "\n",
    "        # Check if file exists\n",
    "        if os.path.exists(file_path):\n",
    "            print(f\"✅ File already exists: {file_name}, skipping download.\")\n",
    "            continue\n",
    "\n",
    "        print(f\"⬇️ Downloading: {file_name}\")\n",
    "\n",
    "        try:\n",
    "            response = requests.get(URL, stream=True, timeout=30)\n",
    "            print(f\"🔎 HTTP Response Code: {response.status_code}\")  # Debug response\n",
    "            \n",
    "            response.raise_for_status()  # Raise error for bad requests\n",
    "\n",
    "            # Write file in chunks\n",
    "            with open(file_path, \"wb\") as f:\n",
    "                for chunk in response.iter_content(chunk_size=1024):\n",
    "                    if chunk:\n",
    "                        f.write(chunk)\n",
    "            \n",
    "            print(f\"✅ Download complete: {file_name}\")\n",
    "\n",
    "        except requests.exceptions.RequestException as e:\n",
    "            print(f\"❌ Error downloading {file_name}: {e}\")\n",
    "\n",
    "    # Increment by 10 years\n",
    "    year += 10\n",
    "    print(f\"➡️ Moving to next time period...\\n\")\n"
   ]
  }
 ],
 "metadata": {
  "kernelspec": {
   "display_name": "atlite_cmip6_2025",
   "language": "python",
   "name": "python3"
  },
  "language_info": {
   "codemirror_mode": {
    "name": "ipython",
    "version": 3
   },
   "file_extension": ".py",
   "mimetype": "text/x-python",
   "name": "python",
   "nbconvert_exporter": "python",
   "pygments_lexer": "ipython3",
   "version": "3.13.1"
  }
 },
 "nbformat": 4,
 "nbformat_minor": 2
}
